{
  "nbformat": 4,
  "nbformat_minor": 0,
  "metadata": {
    "colab": {
      "provenance": []
    },
    "kernelspec": {
      "name": "python3",
      "display_name": "Python 3"
    },
    "language_info": {
      "name": "python"
    }
  },
  "cells": [
    {
      "cell_type": "code",
      "source": [
        "import pandas as pd\n",
        "import numpy as np\n",
        "from sklearn.model_selection import train_test_split\n",
        "from sklearn.tree import DecisionTreeRegressor\n",
        "\n",
        "# Load the dataset of 100 crops\n",
        "data = pd.read_csv('/content/Dataset.csv')  # Replace with the path to your dataset\n",
        "\n",
        "def get_lifespan(crop_name, dataset):\n",
        "    crop_data = dataset[dataset['Crop'] == crop_name]\n",
        "    return crop_data['Life_Span (days)'].values[0] if not crop_data.empty else None\n",
        "\n",
        "def display_optimal_conditions(crop_name, dataset):\n",
        "    crop_data = dataset[dataset['Crop'] == crop_name]\n",
        "    if not crop_data.empty:\n",
        "        print(f\"\\nOptimal Conditions for {crop_name}:\")\n",
        "        for column in crop_data.columns:\n",
        "            print(f\"{column}: {crop_data[column].values[0]}\")\n",
        "    else:\n",
        "        print(f\"Sorry, no data found for the crop {crop_name}.\")\n",
        "\n",
        "# Input: Crop name from the user\n",
        "user_crop_name = input(\"Enter the name of the crop: \")\n",
        "\n",
        "# Display optimal conditions for the selected crop\n",
        "display_optimal_conditions(user_crop_name, data)\n",
        "\n",
        "# Get the lifespan of the crop from the dataset\n",
        "user_crop_lifespan = get_lifespan(user_crop_name, data)\n",
        "\n",
        "if user_crop_lifespan is not None:\n",
        "    # Generate irrigation schedule for the user's crop\n",
        "    full_schedule = pd.DataFrame(columns=['Crop', 'Day', 'Water_Requirement_Crop', 'Water_Requirement_Greenhouse', 'Motor_Run_Time_Minutes'])\n",
        "    day_range = np.array(range(1, user_crop_lifespan + 1), dtype=float)\n",
        "\n",
        "    # Assume a linear increase in water requirements as the plant matures\n",
        "    water_requirement_per_day = data[data['Crop'] == user_crop_name]['Water_Requirement (mm)'].values\n",
        "    water_requirement_per_day_crop = water_requirement_per_day * (1 + day_range / float(user_crop_lifespan))\n",
        "\n",
        "    crop_schedule = pd.DataFrame({\n",
        "        'Crop': [user_crop_name] * user_crop_lifespan,\n",
        "        'Day': day_range,\n",
        "        'Water_Requirement_Crop': water_requirement_per_day_crop,\n",
        "        'Water_Requirement_Greenhouse': water_requirement_per_day_crop * 0.001 * 17 * 14  # Area of the greenhouse in square meters\n",
        "    })\n",
        "\n",
        "    # Calculate motor run time in minutes\n",
        "    motor_flow_rate = 1000.0  # Motor flow rate in liters per hour (adjust as needed)\n",
        "    crop_schedule['Motor_Run_Time_Minutes'] = (crop_schedule['Water_Requirement_Greenhouse'] / motor_flow_rate) * 60\n",
        "\n",
        "    full_schedule = pd.concat([full_schedule, crop_schedule], ignore_index=True)\n",
        "\n",
        "    # Save the schedule to a CSV file\n",
        "    full_schedule.to_csv(f'irrigation_schedule_{user_crop_name}.csv', index=False)\n",
        "    print(f'\\nIrrigation schedule for {user_crop_name} saved to irrigation_schedule_{user_crop_name}.csv')\n",
        "else:\n",
        "    print(f\"Sorry, no data found for the crop {user_crop_name}.\")\n"
      ],
      "metadata": {
        "colab": {
          "base_uri": "https://localhost:8080/"
        },
        "id": "lNU8rCs1_2rP",
        "outputId": "4501f60a-7bf3-4bfe-a873-da52a1835eab"
      },
      "execution_count": 30,
      "outputs": [
        {
          "output_type": "stream",
          "name": "stdout",
          "text": [
            "Enter the name of the crop: Banana\n",
            "\n",
            "Optimal Conditions for Banana:\n",
            "Crop: Banana\n",
            "Climate: Tropical\n",
            "Soil_Type: Sandy\n",
            "Temperature (°C): 28\n",
            "Humidity (%): 75\n",
            "Water_Requirement (mm): 42\n",
            "Life_Span (days): 180\n",
            "\n",
            "Irrigation schedule for Banana saved to irrigation_schedule_Banana.csv\n"
          ]
        }
      ]
    },
    {
      "cell_type": "code",
      "source": [
        "# Download the irrigation schedule file\n",
        "files.download('irrigation_schedule_Banana.csv')"
      ],
      "metadata": {
        "colab": {
          "base_uri": "https://localhost:8080/",
          "height": 17
        },
        "id": "DCr5hOV_BiJ8",
        "outputId": "9a93344b-f445-43f1-cb39-57d128cdb406"
      },
      "execution_count": 31,
      "outputs": [
        {
          "output_type": "display_data",
          "data": {
            "text/plain": [
              "<IPython.core.display.Javascript object>"
            ],
            "application/javascript": [
              "\n",
              "    async function download(id, filename, size) {\n",
              "      if (!google.colab.kernel.accessAllowed) {\n",
              "        return;\n",
              "      }\n",
              "      const div = document.createElement('div');\n",
              "      const label = document.createElement('label');\n",
              "      label.textContent = `Downloading \"${filename}\": `;\n",
              "      div.appendChild(label);\n",
              "      const progress = document.createElement('progress');\n",
              "      progress.max = size;\n",
              "      div.appendChild(progress);\n",
              "      document.body.appendChild(div);\n",
              "\n",
              "      const buffers = [];\n",
              "      let downloaded = 0;\n",
              "\n",
              "      const channel = await google.colab.kernel.comms.open(id);\n",
              "      // Send a message to notify the kernel that we're ready.\n",
              "      channel.send({})\n",
              "\n",
              "      for await (const message of channel.messages) {\n",
              "        // Send a message to notify the kernel that we're ready.\n",
              "        channel.send({})\n",
              "        if (message.buffers) {\n",
              "          for (const buffer of message.buffers) {\n",
              "            buffers.push(buffer);\n",
              "            downloaded += buffer.byteLength;\n",
              "            progress.value = downloaded;\n",
              "          }\n",
              "        }\n",
              "      }\n",
              "      const blob = new Blob(buffers, {type: 'application/binary'});\n",
              "      const a = document.createElement('a');\n",
              "      a.href = window.URL.createObjectURL(blob);\n",
              "      a.download = filename;\n",
              "      div.appendChild(a);\n",
              "      a.click();\n",
              "      div.remove();\n",
              "    }\n",
              "  "
            ]
          },
          "metadata": {}
        },
        {
          "output_type": "display_data",
          "data": {
            "text/plain": [
              "<IPython.core.display.Javascript object>"
            ],
            "application/javascript": [
              "download(\"download_d1862464-3b89-4212-a5f4-4b65142610b0\", \"irrigation_schedule_Banana.csv\", 10682)"
            ]
          },
          "metadata": {}
        }
      ]
    },
    {
      "cell_type": "code",
      "source": [],
      "metadata": {
        "id": "S39jSxEDBzKA"
      },
      "execution_count": null,
      "outputs": []
    }
  ]
}